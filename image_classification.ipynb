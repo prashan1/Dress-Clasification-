{
 "cells": [
  {
   "cell_type": "code",
   "execution_count": 98,
   "metadata": {},
   "outputs": [],
   "source": [
    "import tensorflow as tf\n",
    "from tensorflow import keras\n",
    "from matplotlib import pyplot as plt\n",
    "import numpy as np"
   ]
  },
  {
   "cell_type": "code",
   "execution_count": 2,
   "metadata": {},
   "outputs": [
    {
     "data": {
      "text/plain": [
       "'2.1.0'"
      ]
     },
     "execution_count": 2,
     "metadata": {},
     "output_type": "execute_result"
    }
   ],
   "source": [
    "tf.__version__\n"
   ]
  },
  {
   "cell_type": "code",
   "execution_count": 3,
   "metadata": {},
   "outputs": [
    {
     "data": {
      "text/plain": [
       "'2.2.4-tf'"
      ]
     },
     "execution_count": 3,
     "metadata": {},
     "output_type": "execute_result"
    }
   ],
   "source": [
    "keras.__version__"
   ]
  },
  {
   "cell_type": "code",
   "execution_count": 12,
   "metadata": {},
   "outputs": [],
   "source": [
    "fashion_mnist = keras.datasets.mnist\n"
   ]
  },
  {
   "cell_type": "code",
   "execution_count": 14,
   "metadata": {},
   "outputs": [
    {
     "data": {
      "text/plain": [
       "<module 'tensorflow_core.python.keras.api._v2.keras.datasets.mnist' from 'C:\\\\Users\\\\prashant\\\\Anaconda3\\\\lib\\\\site-packages\\\\tensorflow_core\\\\python\\\\keras\\\\api\\\\_v2\\\\keras\\\\datasets\\\\mnist\\\\__init__.py'>"
      ]
     },
     "execution_count": 14,
     "metadata": {},
     "output_type": "execute_result"
    }
   ],
   "source": [
    "fashion_mnist"
   ]
  },
  {
   "cell_type": "code",
   "execution_count": 13,
   "metadata": {},
   "outputs": [
    {
     "name": "stdout",
     "output_type": "stream",
     "text": [
      "Downloading data from https://storage.googleapis.com/tensorflow/tf-keras-datasets/mnist.npz\n",
      "11493376/11490434 [==============================] - 16s 1us/step\n"
     ]
    }
   ],
   "source": [
    "(X_train_full, y_train_full) ,( x_test , y_test) = fashion_mnist.load_data()"
   ]
  },
  {
   "cell_type": "code",
   "execution_count": 17,
   "metadata": {},
   "outputs": [
    {
     "data": {
      "text/plain": [
       "(60000, 28, 28)"
      ]
     },
     "execution_count": 17,
     "metadata": {},
     "output_type": "execute_result"
    }
   ],
   "source": [
    "X_train_full.shape"
   ]
  },
  {
   "cell_type": "code",
   "execution_count": 20,
   "metadata": {},
   "outputs": [
    {
     "data": {
      "text/plain": [
       "dtype('uint8')"
      ]
     },
     "execution_count": 20,
     "metadata": {},
     "output_type": "execute_result"
    }
   ],
   "source": [
    "X_train_full.dtype"
   ]
  },
  {
   "cell_type": "code",
   "execution_count": 26,
   "metadata": {},
   "outputs": [
    {
     "data": {
      "text/plain": [
       "(10000, 28, 28)"
      ]
     },
     "execution_count": 26,
     "metadata": {},
     "output_type": "execute_result"
    }
   ],
   "source": [
    "x_test.shape"
   ]
  },
  {
   "cell_type": "code",
   "execution_count": 33,
   "metadata": {},
   "outputs": [],
   "source": [
    "x_valid , x_train = X_train_full[:5000]/255 , X_train_full[5000 : ]/255\n",
    "y_valid , y_train = y_train_full[:5000] , y_train_full[5000:]"
   ]
  },
  {
   "cell_type": "code",
   "execution_count": 34,
   "metadata": {},
   "outputs": [],
   "source": [
    "class_names = [\"T-shirt/top\", \"Trouser\", \"Pullover\", \"Dress\", \"Coat\",\n",
    "\"Sandal\", \"Shirt\", \"Sneaker\", \"Bag\", \"Ankle boot\"]\n"
   ]
  },
  {
   "cell_type": "code",
   "execution_count": 35,
   "metadata": {},
   "outputs": [
    {
     "data": {
      "text/plain": [
       "'Sneaker'"
      ]
     },
     "execution_count": 35,
     "metadata": {},
     "output_type": "execute_result"
    }
   ],
   "source": [
    "class_names[y_train[0]]"
   ]
  },
  {
   "cell_type": "code",
   "execution_count": 44,
   "metadata": {},
   "outputs": [
    {
     "data": {
      "text/plain": [
       "(60000,)"
      ]
     },
     "execution_count": 44,
     "metadata": {},
     "output_type": "execute_result"
    }
   ],
   "source": [
    "y_train_full.shape"
   ]
  },
  {
   "cell_type": "code",
   "execution_count": 46,
   "metadata": {},
   "outputs": [],
   "source": [
    "model = keras.models.Sequential()\n",
    "model.add(keras.layers.Flatten(input_shape=[28,28]))\n",
    "model.add(keras.layers.Dense(300,activation='relu'))\n",
    "model.add(keras.layers.Dense(300,activation='relu'))\n",
    "model.add(keras.layers.Dense(10,activation='softmax'))"
   ]
  },
  {
   "cell_type": "code",
   "execution_count": 47,
   "metadata": {},
   "outputs": [
    {
     "name": "stdout",
     "output_type": "stream",
     "text": [
      "Model: \"sequential_1\"\n",
      "_________________________________________________________________\n",
      "Layer (type)                 Output Shape              Param #   \n",
      "=================================================================\n",
      "flatten (Flatten)            (None, 784)               0         \n",
      "_________________________________________________________________\n",
      "dense (Dense)                (None, 300)               235500    \n",
      "_________________________________________________________________\n",
      "dense_1 (Dense)              (None, 300)               90300     \n",
      "_________________________________________________________________\n",
      "dense_2 (Dense)              (None, 10)                3010      \n",
      "=================================================================\n",
      "Total params: 328,810\n",
      "Trainable params: 328,810\n",
      "Non-trainable params: 0\n",
      "_________________________________________________________________\n"
     ]
    }
   ],
   "source": [
    "model.summary()"
   ]
  },
  {
   "cell_type": "code",
   "execution_count": 48,
   "metadata": {},
   "outputs": [
    {
     "data": {
      "text/plain": [
       "[<tensorflow.python.keras.layers.core.Flatten at 0xf2ce308>,\n",
       " <tensorflow.python.keras.layers.core.Dense at 0xebaee88>,\n",
       " <tensorflow.python.keras.layers.core.Dense at 0xf4d9c48>,\n",
       " <tensorflow.python.keras.layers.core.Dense at 0xefa7288>]"
      ]
     },
     "execution_count": 48,
     "metadata": {},
     "output_type": "execute_result"
    }
   ],
   "source": [
    "model.layers"
   ]
  },
  {
   "cell_type": "code",
   "execution_count": 52,
   "metadata": {},
   "outputs": [],
   "source": [
    "weight , bias = model.layers[1].get_weights()"
   ]
  },
  {
   "cell_type": "code",
   "execution_count": 54,
   "metadata": {},
   "outputs": [
    {
     "data": {
      "text/plain": [
       "(784, 300)"
      ]
     },
     "execution_count": 54,
     "metadata": {},
     "output_type": "execute_result"
    }
   ],
   "source": [
    "weight.shape"
   ]
  },
  {
   "cell_type": "code",
   "execution_count": 55,
   "metadata": {},
   "outputs": [
    {
     "data": {
      "text/plain": [
       "(300,)"
      ]
     },
     "execution_count": 55,
     "metadata": {},
     "output_type": "execute_result"
    }
   ],
   "source": [
    "bias.shape"
   ]
  },
  {
   "cell_type": "code",
   "execution_count": 56,
   "metadata": {},
   "outputs": [],
   "source": [
    "model.compile(loss='sparse_categorical_crossentropy',optimizer = 'sgd' , metrics =['accuracy'])"
   ]
  },
  {
   "cell_type": "code",
   "execution_count": 70,
   "metadata": {},
   "outputs": [
    {
     "name": "stdout",
     "output_type": "stream",
     "text": [
      "Train on 55000 samples, validate on 5000 samples\n",
      "Epoch 1/30\n",
      "55000/55000 [==============================] - 19s 343us/sample - loss: 0.0448 - accuracy: 0.9887 - val_loss: 0.0719 - val_accuracy: 0.9784\n",
      "Epoch 2/30\n",
      "55000/55000 [==============================] - 20s 356us/sample - loss: 0.0422 - accuracy: 0.9893 - val_loss: 0.0719 - val_accuracy: 0.9788\n",
      "Epoch 3/30\n",
      "55000/55000 [==============================] - 20s 362us/sample - loss: 0.0398 - accuracy: 0.9903 - val_loss: 0.0703 - val_accuracy: 0.9800\n",
      "Epoch 4/30\n",
      "55000/55000 [==============================] - 20s 356us/sample - loss: 0.0375 - accuracy: 0.9907 - val_loss: 0.0699 - val_accuracy: 0.9796\n",
      "Epoch 5/30\n",
      "55000/55000 [==============================] - 27s 493us/sample - loss: 0.0356 - accuracy: 0.9912 - val_loss: 0.0691 - val_accuracy: 0.9800\n",
      "Epoch 6/30\n",
      "55000/55000 [==============================] - 24s 435us/sample - loss: 0.0334 - accuracy: 0.9918 - val_loss: 0.0674 - val_accuracy: 0.9804\n",
      "Epoch 7/30\n",
      "55000/55000 [==============================] - 15s 272us/sample - loss: 0.0315 - accuracy: 0.9923 - val_loss: 0.0703 - val_accuracy: 0.9794\n",
      "Epoch 8/30\n",
      "55000/55000 [==============================] - 15s 277us/sample - loss: 0.0298 - accuracy: 0.9929 - val_loss: 0.0673 - val_accuracy: 0.9808\n",
      "Epoch 9/30\n",
      "55000/55000 [==============================] - 15s 272us/sample - loss: 0.0283 - accuracy: 0.9933 - val_loss: 0.0669 - val_accuracy: 0.9812\n",
      "Epoch 10/30\n",
      "55000/55000 [==============================] - 15s 276us/sample - loss: 0.0268 - accuracy: 0.9942 - val_loss: 0.0671 - val_accuracy: 0.9802\n",
      "Epoch 11/30\n",
      "55000/55000 [==============================] - 15s 266us/sample - loss: 0.0254 - accuracy: 0.9944 - val_loss: 0.0656 - val_accuracy: 0.9804\n",
      "Epoch 12/30\n",
      "55000/55000 [==============================] - 15s 270us/sample - loss: 0.0239 - accuracy: 0.9950 - val_loss: 0.0674 - val_accuracy: 0.9806\n",
      "Epoch 13/30\n",
      "55000/55000 [==============================] - 15s 272us/sample - loss: 0.0226 - accuracy: 0.9953 - val_loss: 0.0666 - val_accuracy: 0.9808\n",
      "Epoch 14/30\n",
      "55000/55000 [==============================] - 16s 298us/sample - loss: 0.0216 - accuracy: 0.9957 - val_loss: 0.0669 - val_accuracy: 0.9800\n",
      "Epoch 15/30\n",
      "55000/55000 [==============================] - 15s 264us/sample - loss: 0.0203 - accuracy: 0.9964 - val_loss: 0.0668 - val_accuracy: 0.9798\n",
      "Epoch 16/30\n",
      "55000/55000 [==============================] - 15s 269us/sample - loss: 0.0194 - accuracy: 0.9966 - val_loss: 0.0665 - val_accuracy: 0.9806\n",
      "Epoch 17/30\n",
      "55000/55000 [==============================] - 15s 281us/sample - loss: 0.0183 - accuracy: 0.9968 - val_loss: 0.0673 - val_accuracy: 0.9804\n",
      "Epoch 18/30\n",
      "55000/55000 [==============================] - 17s 314us/sample - loss: 0.0175 - accuracy: 0.9972 - val_loss: 0.0669 - val_accuracy: 0.9816\n",
      "Epoch 19/30\n",
      "55000/55000 [==============================] - 18s 328us/sample - loss: 0.0166 - accuracy: 0.9975 - val_loss: 0.0657 - val_accuracy: 0.9810\n",
      "Epoch 20/30\n",
      "55000/55000 [==============================] - 15s 274us/sample - loss: 0.0157 - accuracy: 0.9977 - val_loss: 0.0655 - val_accuracy: 0.9818\n",
      "Epoch 21/30\n",
      "55000/55000 [==============================] - 15s 278us/sample - loss: 0.0150 - accuracy: 0.9979 - val_loss: 0.0665 - val_accuracy: 0.9806\n",
      "Epoch 22/30\n",
      "55000/55000 [==============================] - 15s 272us/sample - loss: 0.0143 - accuracy: 0.9980 - val_loss: 0.0648 - val_accuracy: 0.9816\n",
      "Epoch 23/30\n",
      "55000/55000 [==============================] - 15s 266us/sample - loss: 0.0135 - accuracy: 0.9983 - val_loss: 0.0644 - val_accuracy: 0.9818\n",
      "Epoch 24/30\n",
      "55000/55000 [==============================] - 16s 292us/sample - loss: 0.0129 - accuracy: 0.9985 - val_loss: 0.0649 - val_accuracy: 0.9818\n",
      "Epoch 25/30\n",
      "55000/55000 [==============================] - 18s 328us/sample - loss: 0.0123 - accuracy: 0.9986 - val_loss: 0.0649 - val_accuracy: 0.9816\n",
      "Epoch 26/30\n",
      "55000/55000 [==============================] - 19s 348us/sample - loss: 0.0117 - accuracy: 0.9987 - val_loss: 0.0660 - val_accuracy: 0.9810\n",
      "Epoch 27/30\n",
      "55000/55000 [==============================] - 20s 366us/sample - loss: 0.0112 - accuracy: 0.9989 - val_loss: 0.0666 - val_accuracy: 0.9812\n",
      "Epoch 28/30\n",
      "55000/55000 [==============================] - 21s 381us/sample - loss: 0.0107 - accuracy: 0.9989 - val_loss: 0.0652 - val_accuracy: 0.9816\n",
      "Epoch 29/30\n",
      "55000/55000 [==============================] - 18s 321us/sample - loss: 0.0102 - accuracy: 0.9991 - val_loss: 0.0656 - val_accuracy: 0.9818\n",
      "Epoch 30/30\n",
      "55000/55000 [==============================] - 23s 421us/sample - loss: 0.0098 - accuracy: 0.9991 - val_loss: 0.0668 - val_accuracy: 0.9812\n"
     ]
    }
   ],
   "source": [
    "history = model.fit(x_train , y_train , epochs = 30 , validation_data=(x_valid , y_valid) )"
   ]
  },
  {
   "cell_type": "code",
   "execution_count": 87,
   "metadata": {},
   "outputs": [
    {
     "data": {
      "image/png": "[encoded data removed]",
      "text/plain": [
       "<Figure size 576x360 with 1 Axes>"
      ]
     },
     "metadata": {
      "needs_background": "light"
     },
     "output_type": "display_data"
    }
   ],
   "source": [
    "import pandas as pd\n",
    "pd.DataFrame(history.history).plot(figsize=(8,5))\n",
    "plt.grid(True)\n",
    "plt.show()"
   ]
  },
  {
   "cell_type": "code",
   "execution_count": 72,
   "metadata": {},
   "outputs": [
    {
     "name": "stdout",
     "output_type": "stream",
     "text": [
      "10000/10000 [==============================] - 2s 235us/sample - loss: 15.1925 - accuracy: 0.9755\n"
     ]
    },
    {
     "data": {
      "text/plain": [
       "[15.192497122454643, 0.9755]"
      ]
     },
     "execution_count": 72,
     "metadata": {},
     "output_type": "execute_result"
    }
   ],
   "source": [
    "model.evaluate(x_test ,y_test)"
   ]
  },
  {
   "cell_type": "code",
   "execution_count": 78,
   "metadata": {},
   "outputs": [
    {
     "name": "stdout",
     "output_type": "stream",
     "text": [
      "(60000, 28, 28)\n",
      "(55000, 28, 28)\n",
      "(5000, 28, 28)\n",
      "(10000, 28, 28)\n"
     ]
    }
   ],
   "source": [
    "print(X_train_full.shape)\n",
    "print(x_train.shape)\n",
    "print(x_valid.shape)\n",
    "print(x_test.shape)"
   ]
  },
  {
   "cell_type": "code",
   "execution_count": 95,
   "metadata": {},
   "outputs": [
    {
     "data": {
      "text/plain": [
       "(array([[0., 0., 0., 0., 0., 0., 0., 1., 0., 0.],\n",
       "        [0., 0., 1., 0., 0., 0., 0., 0., 0., 0.],\n",
       "        [0., 1., 0., 0., 0., 0., 0., 0., 0., 0.]], dtype=float32),\n",
       " 2)"
      ]
     },
     "execution_count": 95,
     "metadata": {},
     "output_type": "execute_result"
    }
   ],
   "source": [
    "x_predict = x_test[:3]\n",
    "y_predict = model.predict(x_predict)\n",
    "y_predict,round(2)"
   ]
  },
  {
   "cell_type": "code",
   "execution_count": 96,
   "metadata": {},
   "outputs": [
    {
     "data": {
      "text/plain": [
       "array([7, 2, 1], dtype=int64)"
      ]
     },
     "execution_count": 96,
     "metadata": {},
     "output_type": "execute_result"
    }
   ],
   "source": [
    "y_predict = model.predict_classes(x_predict)\n",
    "y_predict"
   ]
  },
  {
   "cell_type": "code",
   "execution_count": 99,
   "metadata": {
    "scrolled": true
   },
   "outputs": [
    {
     "data": {
      "text/plain": [
       "array(['Sneaker', 'Pullover', 'Trouser'], dtype='<U11')"
      ]
     },
     "execution_count": 99,
     "metadata": {},
     "output_type": "execute_result"
    }
   ],
   "source": [
    "np.array(class_names)[y_predict]"
   ]
  },
  {
   "cell_type": "code",
   "execution_count": 100,
   "metadata": {},
   "outputs": [
    {
     "data": {
      "text/plain": [
       "array(['Sneaker', 'Pullover', 'Trouser'], dtype='<U11')"
      ]
     },
     "execution_count": 100,
     "metadata": {},
     "output_type": "execute_result"
    }
   ],
   "source": [
    "np.array(class_names)[y_test[:3]]"
   ]
  },
  {
   "cell_type": "code",
   "execution_count": 101,
   "metadata": {},
   "outputs": [],
   "source": [
    "model.save('my_keras_classification_model.h5')"
   ]
  },
  {
   "cell_type": "code",
   "execution_count": null,
   "metadata": {},
   "outputs": [],
   "source": [
    "# TO load model\n",
    "# model = keras.model.load_model(my_keall)"
   ]
  }
 ],
 "metadata": {
  "kernelspec": {
   "display_name": "Python 3",
   "language": "python",
   "name": "python3"
  },
  "language_info": {
   "codemirror_mode": {
    "name": "ipython",
    "version": 3
   },
   "file_extension": ".py",
   "mimetype": "text/x-python",
   "name": "python",
   "nbconvert_exporter": "python",
   "pygments_lexer": "ipython3",
   "version": "3.7.4"
  }
 },
 "nbformat": 4,
 "nbformat_minor": 4
}
